{
 "cells": [
  {
   "cell_type": "markdown",
   "id": "1a6cf018-1afa-498e-8f43-b13cc82218bc",
   "metadata": {},
   "source": [
    "# Sliding Window\n",
    "Description:\n",
    "- Handle the input data in a specific window size\n",
    "\n",
    "Why\n",
    "- Reduce the use of nested loop and replace it with a single loop\n",
    "- Reduce the time complexity\n",
    "\n",
    "Reference\n",
    "- https://levelup.gitconnected.com/dont-just-leetcode-follow-the-coding-patterns-instead-4beb6a197fdb\n",
    "- https://www.geeksforgeeks.org/window-sliding-technique/"
   ]
  },
  {
   "cell_type": "code",
   "execution_count": 501,
   "id": "7e03e27b-d384-4011-a499-b4438c69b4a7",
   "metadata": {},
   "outputs": [],
   "source": [
    "import pandas as pd\n",
    "import numpy as np\n",
    "import random"
   ]
  },
  {
   "cell_type": "markdown",
   "id": "50ed8318-8ead-43f8-8a23-966cc07cbba7",
   "metadata": {},
   "source": [
    "## Array"
   ]
  },
  {
   "cell_type": "markdown",
   "id": "3ac0720a-b1bb-4c80-84e1-90b6280cfb68",
   "metadata": {},
   "source": [
    "### 1. Get all subarray of size k\n",
    "\n",
    "\n",
    "Use case: we want to build a pricing model based on a data set with data from 2000 to 2009. To estimate the model result when applying it on unseen and up-to-date data, we use sliding windows technique so we can train models with 3 years data and test with 1 years data."
   ]
  },
  {
   "cell_type": "code",
   "execution_count": 474,
   "id": "931d5d1f-8206-4f5b-bb0a-0ed7d4612c16",
   "metadata": {},
   "outputs": [],
   "source": [
    "def k_size_windows(arr, k):\n",
    "    n = len(arr)\n",
    "    \n",
    "    if k > n:\n",
    "        raise ValueError(\"Invalid K\")\n",
    "    \n",
    "    windows = []\n",
    "    for i in range(n-k+1):\n",
    "        windows.append((arr[i:i+k-1], arr[i+k-1:i+k]))\n",
    "    return windows"
   ]
  },
  {
   "cell_type": "code",
   "execution_count": 475,
   "id": "0919e0c2-51a6-4ac8-a23a-a871cba9cc8e",
   "metadata": {},
   "outputs": [
    {
     "name": "stdout",
     "output_type": "stream",
     "text": [
      "All data: [2000, 2001, 2002, 2003, 2004, 2005, 2006, 2007, 2008, 2009]\n",
      "Train: [2000, 2001, 2002] Test: [2003]\n",
      "Train: [2001, 2002, 2003] Test: [2004]\n",
      "Train: [2002, 2003, 2004] Test: [2005]\n",
      "Train: [2003, 2004, 2005] Test: [2006]\n",
      "Train: [2004, 2005, 2006] Test: [2007]\n",
      "Train: [2005, 2006, 2007] Test: [2008]\n",
      "Train: [2006, 2007, 2008] Test: [2009]\n"
     ]
    }
   ],
   "source": [
    "arr = [2000+i for i in range(10)]\n",
    "print(\"All data:\", arr)\n",
    "k = 4\n",
    "for res in k_size_windows(arr, k):\n",
    "    print(\"Train:\", res[0], \"Test:\", res[1])"
   ]
  },
  {
   "cell_type": "markdown",
   "id": "29c711e6-b897-42b5-84d0-766f04fa4622",
   "metadata": {},
   "source": [
    "### 2. Get maximum sum of a subarray of size k\n",
    "Use case: for a website, we want get the period (30 minutes) of a day that is with maximum usage rate"
   ]
  },
  {
   "cell_type": "code",
   "execution_count": 603,
   "id": "a7a97f4f-1e4f-40fe-89be-8d8ae543882f",
   "metadata": {},
   "outputs": [],
   "source": [
    "# Generating a table of hour:minute with random usage rate\n",
    "# Make 20H with highest usage rate\n",
    "usage_rate = {\"Time\":[], \"Usage\":[]}\n",
    "for i in range(24):\n",
    "    for j in range(60):\n",
    "        hm = str(i).zfill(2)+\":\"+str(j).zfill(2)\n",
    "        usage_rate[\"Time\"].append(hm)\n",
    "        if i == 20:\n",
    "            usage_rate[\"Usage\"].append(random.randint(8999, 9999))\n",
    "        else:\n",
    "            usage_rate[\"Usage\"].append(random.randint(0, 5999))\n",
    "usage_rate_df = pd.DataFrame(usage_rate)"
   ]
  },
  {
   "cell_type": "code",
   "execution_count": 604,
   "id": "00ef512c-ec1e-4812-b7de-62219f035f87",
   "metadata": {},
   "outputs": [
    {
     "data": {
      "text/html": [
       "<div>\n",
       "<style scoped>\n",
       "    .dataframe tbody tr th:only-of-type {\n",
       "        vertical-align: middle;\n",
       "    }\n",
       "\n",
       "    .dataframe tbody tr th {\n",
       "        vertical-align: top;\n",
       "    }\n",
       "\n",
       "    .dataframe thead th {\n",
       "        text-align: right;\n",
       "    }\n",
       "</style>\n",
       "<table border=\"1\" class=\"dataframe\">\n",
       "  <thead>\n",
       "    <tr style=\"text-align: right;\">\n",
       "      <th></th>\n",
       "      <th>Time</th>\n",
       "      <th>Usage</th>\n",
       "    </tr>\n",
       "  </thead>\n",
       "  <tbody>\n",
       "    <tr>\n",
       "      <th>0</th>\n",
       "      <td>00:00</td>\n",
       "      <td>3183</td>\n",
       "    </tr>\n",
       "    <tr>\n",
       "      <th>1</th>\n",
       "      <td>00:01</td>\n",
       "      <td>2596</td>\n",
       "    </tr>\n",
       "    <tr>\n",
       "      <th>2</th>\n",
       "      <td>00:02</td>\n",
       "      <td>715</td>\n",
       "    </tr>\n",
       "    <tr>\n",
       "      <th>3</th>\n",
       "      <td>00:03</td>\n",
       "      <td>450</td>\n",
       "    </tr>\n",
       "    <tr>\n",
       "      <th>4</th>\n",
       "      <td>00:04</td>\n",
       "      <td>908</td>\n",
       "    </tr>\n",
       "  </tbody>\n",
       "</table>\n",
       "</div>"
      ],
      "text/plain": [
       "    Time  Usage\n",
       "0  00:00   3183\n",
       "1  00:01   2596\n",
       "2  00:02    715\n",
       "3  00:03    450\n",
       "4  00:04    908"
      ]
     },
     "execution_count": 604,
     "metadata": {},
     "output_type": "execute_result"
    }
   ],
   "source": [
    "usage_rate_df.head()"
   ]
  },
  {
   "cell_type": "code",
   "execution_count": 605,
   "id": "76fa04fa-3fff-4560-9ddf-c6fe04b58616",
   "metadata": {},
   "outputs": [],
   "source": [
    "k = 30\n",
    "def max_sum(df, index, value, k):\n",
    "    arr = df[value].values\n",
    "    times = df[index].values\n",
    "\n",
    "    n = len(arr)\n",
    "    \n",
    "    if k > n:\n",
    "        raise ValueError(\"Invalid K\")\n",
    "    \n",
    "    window_sum = sum(arr[:k])\n",
    "    max_sum = window_sum\n",
    "    max_time = times[:k]\n",
    "    for i in range(n - k):\n",
    "        window_sum = window_sum - arr[i] + arr[i+k]\n",
    "        \n",
    "        if window_sum > max_sum:\n",
    "            max_sum = window_sum\n",
    "            max_time = times[i+1:i+k+1]\n",
    "            \n",
    "            \n",
    "    return max_sum, max_time"
   ]
  },
  {
   "cell_type": "code",
   "execution_count": 606,
   "id": "b51a6e8d-d868-48f8-8c0f-fee37939534a",
   "metadata": {},
   "outputs": [
    {
     "data": {
      "text/plain": [
       "<AxesSubplot:xlabel='Time'>"
      ]
     },
     "execution_count": 606,
     "metadata": {},
     "output_type": "execute_result"
    },
    {
     "data": {
      "image/png": "[encoded data removed]",
      "text/plain": [
       "<Figure size 640x480 with 1 Axes>"
      ]
     },
     "metadata": {},
     "output_type": "display_data"
    }
   ],
   "source": [
    "usage_rate_df.plot(x=\"Time\", y=\"Usage\")"
   ]
  },
  {
   "cell_type": "code",
   "execution_count": 607,
   "id": "3bb58471-875c-41d7-8117-0d1042fc0f48",
   "metadata": {},
   "outputs": [
    {
     "data": {
      "text/plain": [
       "(284424,\n",
       " array(['20:26', '20:27', '20:28', '20:29', '20:30', '20:31', '20:32',\n",
       "        '20:33', '20:34', '20:35', '20:36', '20:37', '20:38', '20:39',\n",
       "        '20:40', '20:41', '20:42', '20:43', '20:44', '20:45', '20:46',\n",
       "        '20:47', '20:48', '20:49', '20:50', '20:51', '20:52', '20:53',\n",
       "        '20:54', '20:55'], dtype=object))"
      ]
     },
     "execution_count": 607,
     "metadata": {},
     "output_type": "execute_result"
    }
   ],
   "source": [
    "max_sum(usage_rate_df, \"Time\", \"Usage\", 30)"
   ]
  },
  {
   "cell_type": "markdown",
   "id": "85e21b26-ae63-4c82-b118-f0ef7e13611a",
   "metadata": {},
   "source": [
    "### 3. Fruit Into Baskets\n",
    "https://leetcode.com/problems/fruit-into-baskets/"
   ]
  },
  {
   "cell_type": "code",
   "execution_count": null,
   "id": "3b7cc454-256c-4d7d-b84b-d249927b22d3",
   "metadata": {},
   "outputs": [],
   "source": []
  },
  {
   "cell_type": "code",
   "execution_count": null,
   "id": "a6c32dd5-1a14-489e-b712-67d418046794",
   "metadata": {},
   "outputs": [],
   "source": []
  },
  {
   "cell_type": "code",
   "execution_count": null,
   "id": "2f5345ad-b320-4483-a053-0568094ae650",
   "metadata": {},
   "outputs": [],
   "source": []
  },
  {
   "cell_type": "markdown",
   "id": "d71fba88-8bb8-4d86-83b4-4063e0fb5f4f",
   "metadata": {},
   "source": [
    "## String"
   ]
  },
  {
   "cell_type": "code",
   "execution_count": null,
   "id": "7ea15f47-66d2-43b9-91f1-2dca28018aa5",
   "metadata": {},
   "outputs": [],
   "source": []
  },
  {
   "cell_type": "markdown",
   "id": "d6cbde34-3acf-4aae-8dc6-740dba9a0b96",
   "metadata": {
    "tags": []
   },
   "source": [
    "## HashTable"
   ]
  },
  {
   "cell_type": "code",
   "execution_count": null,
   "id": "eb3e970b-729f-40ab-82e3-1b876f31a879",
   "metadata": {},
   "outputs": [],
   "source": []
  }
 ],
 "metadata": {
  "kernelspec": {
   "display_name": "Python 3 (ipykernel)",
   "language": "python",
   "name": "python3"
  },
  "language_info": {
   "codemirror_mode": {
    "name": "ipython",
    "version": 3
   },
   "file_extension": ".py",
   "mimetype": "text/x-python",
   "name": "python",
   "nbconvert_exporter": "python",
   "pygments_lexer": "ipython3",
   "version": "3.10.6"
  }
 },
 "nbformat": 4,
 "nbformat_minor": 5
}
