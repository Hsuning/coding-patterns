{
 "cells": [
  {
   "cell_type": "markdown",
   "id": "1a6cf018-1afa-498e-8f43-b13cc82218bc",
   "metadata": {},
   "source": [
    "# Sliding Window\n",
    "Description:\n",
    "- Handle the input data in a specific window size\n",
    "\n",
    "Why\n",
    "- Reduce the use of nested loop and replace it with a single loop\n",
    "- Reduce the time complexity\n",
    "\n",
    "Reference\n",
    "- https://levelup.gitconnected.com/dont-just-leetcode-follow-the-coding-patterns-instead-4beb6a197fdb\n",
    "- https://www.geeksforgeeks.org/window-sliding-technique/"
   ]
  },
  {
   "cell_type": "code",
   "execution_count": 676,
   "id": "7e03e27b-d384-4011-a499-b4438c69b4a7",
   "metadata": {},
   "outputs": [],
   "source": [
    "import pandas as pd\n",
    "import numpy as np\n",
    "import random\n",
    "\n",
    "from typing import List"
   ]
  },
  {
   "cell_type": "markdown",
   "id": "50ed8318-8ead-43f8-8a23-966cc07cbba7",
   "metadata": {},
   "source": [
    "## Array"
   ]
  },
  {
   "cell_type": "markdown",
   "id": "3ac0720a-b1bb-4c80-84e1-90b6280cfb68",
   "metadata": {},
   "source": [
    "### 1. Get all subarray of size k\n",
    "\n",
    "\n",
    "Use case: we want to build a pricing model based on a data set with data from 2000 to 2009. To estimate the model result when applying it on unseen and up-to-date data, we use sliding windows technique so we can train models with 3 years data and test with 1 years data."
   ]
  },
  {
   "cell_type": "code",
   "execution_count": 474,
   "id": "931d5d1f-8206-4f5b-bb0a-0ed7d4612c16",
   "metadata": {},
   "outputs": [],
   "source": [
    "def k_size_windows(arr, k):\n",
    "    n = len(arr)\n",
    "    \n",
    "    if k > n:\n",
    "        raise ValueError(\"Invalid K\")\n",
    "    \n",
    "    windows = []\n",
    "    for i in range(n-k+1):\n",
    "        windows.append((arr[i:i+k-1], arr[i+k-1:i+k]))\n",
    "    return windows"
   ]
  },
  {
   "cell_type": "code",
   "execution_count": 616,
   "id": "66bf5191-ed6c-41c8-8bdb-7df82ac71455",
   "metadata": {},
   "outputs": [
    {
     "name": "stdout",
     "output_type": "stream",
     "text": [
      "All data: [2000, 2001, 2002, 2003, 2004, 2005, 2006, 2007, 2008, 2009]\n"
     ]
    }
   ],
   "source": [
    "arr = [2000+i for i in range(10)]\n",
    "k = 4\n",
    "print(\"All data:\", arr)"
   ]
  },
  {
   "cell_type": "code",
   "execution_count": 617,
   "id": "a25da223-c196-43e1-9e43-ddea0f2fb681",
   "metadata": {},
   "outputs": [
    {
     "data": {
      "text/plain": [
       "[([2000, 2001, 2002], [2003]),\n",
       " ([2001, 2002, 2003], [2004]),\n",
       " ([2002, 2003, 2004], [2005]),\n",
       " ([2003, 2004, 2005], [2006]),\n",
       " ([2004, 2005, 2006], [2007]),\n",
       " ([2005, 2006, 2007], [2008]),\n",
       " ([2006, 2007, 2008], [2009])]"
      ]
     },
     "execution_count": 617,
     "metadata": {},
     "output_type": "execute_result"
    }
   ],
   "source": [
    "k_size_windows(arr, k)"
   ]
  },
  {
   "cell_type": "code",
   "execution_count": 618,
   "id": "0919e0c2-51a6-4ac8-a23a-a871cba9cc8e",
   "metadata": {},
   "outputs": [
    {
     "name": "stdout",
     "output_type": "stream",
     "text": [
      "Train: [2000, 2001, 2002] Test: [2003]\n",
      "Train: [2001, 2002, 2003] Test: [2004]\n",
      "Train: [2002, 2003, 2004] Test: [2005]\n",
      "Train: [2003, 2004, 2005] Test: [2006]\n",
      "Train: [2004, 2005, 2006] Test: [2007]\n",
      "Train: [2005, 2006, 2007] Test: [2008]\n",
      "Train: [2006, 2007, 2008] Test: [2009]\n"
     ]
    }
   ],
   "source": [
    "for res in k_size_windows(arr, k):\n",
    "    print(\"Train:\", res[0], \"Test:\", res[1])"
   ]
  },
  {
   "cell_type": "markdown",
   "id": "29c711e6-b897-42b5-84d0-766f04fa4622",
   "metadata": {},
   "source": [
    "### 2. Get maximum sum of a subarray of size k\n",
    "Use case: for a website, we want get the period (30 minutes) of a day that is with maximum usage rate"
   ]
  },
  {
   "cell_type": "code",
   "execution_count": 619,
   "id": "a7a97f4f-1e4f-40fe-89be-8d8ae543882f",
   "metadata": {},
   "outputs": [],
   "source": [
    "# Generating a table of hour:minute with random usage rate\n",
    "# Make 20H with highest usage rate\n",
    "usage_rate = {\"Time\":[], \"Usage\":[]}\n",
    "for i in range(24):\n",
    "    for j in range(60):\n",
    "        hm = str(i).zfill(2)+\":\"+str(j).zfill(2)\n",
    "        usage_rate[\"Time\"].append(hm)\n",
    "        if i == 20:\n",
    "            usage_rate[\"Usage\"].append(random.randint(8999, 9999))\n",
    "        else:\n",
    "            usage_rate[\"Usage\"].append(random.randint(0, 5999))\n",
    "usage_rate_df = pd.DataFrame(usage_rate)"
   ]
  },
  {
   "cell_type": "code",
   "execution_count": 620,
   "id": "00ef512c-ec1e-4812-b7de-62219f035f87",
   "metadata": {},
   "outputs": [
    {
     "data": {
      "text/html": [
       "<div>\n",
       "<style scoped>\n",
       "    .dataframe tbody tr th:only-of-type {\n",
       "        vertical-align: middle;\n",
       "    }\n",
       "\n",
       "    .dataframe tbody tr th {\n",
       "        vertical-align: top;\n",
       "    }\n",
       "\n",
       "    .dataframe thead th {\n",
       "        text-align: right;\n",
       "    }\n",
       "</style>\n",
       "<table border=\"1\" class=\"dataframe\">\n",
       "  <thead>\n",
       "    <tr style=\"text-align: right;\">\n",
       "      <th></th>\n",
       "      <th>Time</th>\n",
       "      <th>Usage</th>\n",
       "    </tr>\n",
       "  </thead>\n",
       "  <tbody>\n",
       "    <tr>\n",
       "      <th>0</th>\n",
       "      <td>00:00</td>\n",
       "      <td>229</td>\n",
       "    </tr>\n",
       "    <tr>\n",
       "      <th>1</th>\n",
       "      <td>00:01</td>\n",
       "      <td>5594</td>\n",
       "    </tr>\n",
       "    <tr>\n",
       "      <th>2</th>\n",
       "      <td>00:02</td>\n",
       "      <td>756</td>\n",
       "    </tr>\n",
       "    <tr>\n",
       "      <th>3</th>\n",
       "      <td>00:03</td>\n",
       "      <td>170</td>\n",
       "    </tr>\n",
       "    <tr>\n",
       "      <th>4</th>\n",
       "      <td>00:04</td>\n",
       "      <td>2539</td>\n",
       "    </tr>\n",
       "  </tbody>\n",
       "</table>\n",
       "</div>"
      ],
      "text/plain": [
       "    Time  Usage\n",
       "0  00:00    229\n",
       "1  00:01   5594\n",
       "2  00:02    756\n",
       "3  00:03    170\n",
       "4  00:04   2539"
      ]
     },
     "execution_count": 620,
     "metadata": {},
     "output_type": "execute_result"
    }
   ],
   "source": [
    "usage_rate_df.head()"
   ]
  },
  {
   "cell_type": "code",
   "execution_count": 621,
   "id": "76fa04fa-3fff-4560-9ddf-c6fe04b58616",
   "metadata": {},
   "outputs": [],
   "source": [
    "k = 30\n",
    "def max_sum(df, index, value, k):\n",
    "    arr = df[value].values\n",
    "    times = df[index].values\n",
    "\n",
    "    n = len(arr)\n",
    "    \n",
    "    if k > n:\n",
    "        raise ValueError(\"Invalid K\")\n",
    "    \n",
    "    window_sum = sum(arr[:k])\n",
    "    max_sum = window_sum\n",
    "    max_time = times[:k]\n",
    "    for i in range(n - k):\n",
    "        window_sum = window_sum - arr[i] + arr[i+k]\n",
    "        \n",
    "        if window_sum > max_sum:\n",
    "            max_sum = window_sum\n",
    "            max_time = times[i+1:i+k+1]\n",
    "            \n",
    "            \n",
    "    return max_sum, max_time"
   ]
  },
  {
   "cell_type": "code",
   "execution_count": 622,
   "id": "b51a6e8d-d868-48f8-8c0f-fee37939534a",
   "metadata": {},
   "outputs": [
    {
     "data": {
      "text/plain": [
       "<AxesSubplot:xlabel='Time'>"
      ]
     },
     "execution_count": 622,
     "metadata": {},
     "output_type": "execute_result"
    },
    {
     "data": {
      "image/png": "[encoded data removed]",
      "text/plain": [
       "<Figure size 640x480 with 1 Axes>"
      ]
     },
     "metadata": {},
     "output_type": "display_data"
    }
   ],
   "source": [
    "usage_rate_df.plot(x=\"Time\", y=\"Usage\")"
   ]
  },
  {
   "cell_type": "code",
   "execution_count": 623,
   "id": "3bb58471-875c-41d7-8117-0d1042fc0f48",
   "metadata": {},
   "outputs": [
    {
     "data": {
      "text/plain": [
       "(286056,\n",
       " array(['20:04', '20:05', '20:06', '20:07', '20:08', '20:09', '20:10',\n",
       "        '20:11', '20:12', '20:13', '20:14', '20:15', '20:16', '20:17',\n",
       "        '20:18', '20:19', '20:20', '20:21', '20:22', '20:23', '20:24',\n",
       "        '20:25', '20:26', '20:27', '20:28', '20:29', '20:30', '20:31',\n",
       "        '20:32', '20:33'], dtype=object))"
      ]
     },
     "execution_count": 623,
     "metadata": {},
     "output_type": "execute_result"
    }
   ],
   "source": [
    "max_sum(usage_rate_df, \"Time\", \"Usage\", 30)"
   ]
  },
  {
   "cell_type": "markdown",
   "id": "85e21b26-ae63-4c82-b118-f0ef7e13611a",
   "metadata": {},
   "source": [
    "### 3. Fruit Into Baskets\n",
    "Given an array of integers, find the longest subarray that contains at most 2 unique integers.\n",
    "https://leetcode.com/problems/fruit-into-baskets/"
   ]
  },
  {
   "cell_type": "code",
   "execution_count": 677,
   "id": "a6c32dd5-1a14-489e-b712-67d418046794",
   "metadata": {},
   "outputs": [],
   "source": [
    "def totalFruit(self, fruits: List[int]) -> int:\n",
    "    # Dictionary to store fruit types and its count\n",
    "    counter = {}\n",
    "    removed_i = 0 # Remove from first item\n",
    "    max_count = 0 # Max count\n",
    "\n",
    "    # Count from the first item\n",
    "    for idx, fruit in enumerate(fruits):\n",
    "        # Count the number for every fruit type (int)\n",
    "        counter[fruit] = counter.get(fruit, 0) + 1\n",
    "\n",
    "        # When the number of unique fruit type is more than 2,\n",
    "        # means that counter has more than 2 items,\n",
    "        while len(counter) > 2:\n",
    "            # Deduct the count from the first item of the window\n",
    "            counter[fruits[removed_i]] -=1\n",
    "            # Remove the fruit type if the count is 0\n",
    "            if counter[fruits[removed_i]] == 0:\n",
    "                del counter[fruits[removed_i]]\n",
    "            removed_i += 1\n",
    "        # Update the max count\n",
    "        max_count = max(max_count, idx-removed_i+1)\n",
    "    # Return the max number that we can collect\n",
    "    return max_count"
   ]
  },
  {
   "cell_type": "markdown",
   "id": "d71fba88-8bb8-4d86-83b4-4063e0fb5f4f",
   "metadata": {},
   "source": [
    "## String"
   ]
  },
  {
   "cell_type": "markdown",
   "id": "b53e118f-039c-4b6a-b32e-81efa0535c41",
   "metadata": {},
   "source": [
    "### 1. Find the longest substring with k unique characters in a given string\n",
    "Given a string you need to print longest possible substring that has exactly M unique characters. If there are more than one substring of longest possible length, then print any one of them.\n",
    "\n",
    "Examples: \n",
    "\n",
    "    Input: Str = “aabbcc”, k = 1\n",
    "    Output: 2\n",
    "    Explanation: Max substring can be any one from {“aa” , “bb” , “cc”}.\n",
    "\n",
    "    Input: Str = “aabbcc”, k = 2\n",
    "    Output: 4\n",
    "    Explanation: Max substring can be any one from {“aabb” , “bbcc”}.\n",
    "\n",
    "    Input: Str = “aabbcc”, k = 3\n",
    "    Output: 6\n",
    "    Explanation: \n",
    "    There are substrings with exactly 3 unique characters\n",
    "    {“aabbcc” , “abbcc” , “aabbc” , “abbc” }\n",
    "    Max is “aabbcc” with length 6.\n",
    "\n",
    "    Input: Str = “aaabbb”, k = 3\n",
    "    Output: Not enough unique characters\n",
    "    Explanation: There are only two unique characters, thus show error message. \n",
    "\n",
    "Source: Google Interview Question."
   ]
  },
  {
   "cell_type": "code",
   "execution_count": 686,
   "id": "434ac7a8-7dbb-4f54-afb7-3fe7e20bba53",
   "metadata": {},
   "outputs": [
    {
     "data": {
      "text/plain": [
       "2"
      ]
     },
     "execution_count": 686,
     "metadata": {},
     "output_type": "execute_result"
    }
   ],
   "source": [
    "len(set('aaabbb'))"
   ]
  },
  {
   "cell_type": "code",
   "execution_count": 687,
   "id": "7ea15f47-66d2-43b9-91f1-2dca28018aa5",
   "metadata": {},
   "outputs": [
    {
     "name": "stdout",
     "output_type": "stream",
     "text": [
      "aabbcc 1 2\n",
      "aabbcc 2 4\n",
      "aabbcc 3 6\n",
      "aaabbb 3 Not enough unique characters\n"
     ]
    }
   ],
   "source": [
    "def get_longest_substring(string: str, k: int) -> int:\n",
    "    counter = {}\n",
    "    removed_i = 0\n",
    "    max_length = 0\n",
    "    \n",
    "    if len(set(string)) < k:\n",
    "        return \"Not enough unique characters\"\n",
    "    \n",
    "    for idx, c in enumerate(string):\n",
    "        counter[c] = counter.get(c, 0) + 1\n",
    "        \n",
    "        while len(counter) > k:\n",
    "            counter[string[removed_i]] -= 1\n",
    "            if counter[string[removed_i]] == 0:\n",
    "                del counter[string[removed_i]]\n",
    "            removed_i += 1\n",
    "        max_length = max(max_length, idx-removed_i+1)\n",
    "    return max_length\n",
    "\n",
    "\n",
    "Strs = ['aabbcc', 'aabbcc', 'aabbcc', \"aaabbb\"]\n",
    "ks = [1, 2, 3, 3]\n",
    "for s, k in zip(Strs, ks):\n",
    "    print(s, k, get_longest_substring(s, k))"
   ]
  },
  {
   "cell_type": "markdown",
   "id": "d6cbde34-3acf-4aae-8dc6-740dba9a0b96",
   "metadata": {
    "tags": []
   },
   "source": [
    "## HashTable"
   ]
  },
  {
   "cell_type": "code",
   "execution_count": null,
   "id": "eb3e970b-729f-40ab-82e3-1b876f31a879",
   "metadata": {},
   "outputs": [],
   "source": []
  }
 ],
 "metadata": {
  "kernelspec": {
   "display_name": "Python 3 (ipykernel)",
   "language": "python",
   "name": "python3"
  },
  "language_info": {
   "codemirror_mode": {
    "name": "ipython",
    "version": 3
   },
   "file_extension": ".py",
   "mimetype": "text/x-python",
   "name": "python",
   "nbconvert_exporter": "python",
   "pygments_lexer": "ipython3",
   "version": "3.10.6"
  }
 },
 "nbformat": 4,
 "nbformat_minor": 5
}
